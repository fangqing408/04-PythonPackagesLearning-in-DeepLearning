{
 "cells": [
  {
   "cell_type": "code",
   "execution_count": 6,
   "id": "ee329225",
   "metadata": {},
   "outputs": [
    {
     "name": "stdout",
     "output_type": "stream",
     "text": [
      "{'a': 0, 'b': 25, 'c': 0.5, 'd': 1}\n",
      "a     0.0\n",
      "b    25.0\n",
      "c     0.5\n",
      "d     1.0\n",
      "dtype: float64\n"
     ]
    }
   ],
   "source": [
    "import pandas as pd\n",
    "import torch\n",
    "import numpy as np\n",
    "\n",
    "a = {'a':0, 'b':25, 'c':0.5, 'd':1}\n",
    "a1 = pd.Series(a)\n",
    "print(a)\n",
    "print(a1)"
   ]
  },
  {
   "cell_type": "code",
   "execution_count": 7,
   "id": "e0ea64a4",
   "metadata": {},
   "outputs": [
    {
     "name": "stdout",
     "output_type": "stream",
     "text": [
      "a    0\n",
      "b    1\n",
      "c    2\n",
      "d    3\n",
      "e    4\n",
      "dtype: int64\n"
     ]
    }
   ],
   "source": [
    "bv = [0, 1, 2, 3, 4]\n",
    "bk = ['a', 'b', 'c', 'd', 'e']\n",
    "\n",
    "b = pd.Series(bv, index=bk)\n",
    "print(b)\n",
    "\n",
    "# bv 可以是列表、数组、张量，index 参数可以省略，省略的话下标从 0 开始递增"
   ]
  },
  {
   "cell_type": "code",
   "execution_count": 12,
   "id": "e5582e21",
   "metadata": {},
   "outputs": [
    {
     "name": "stdout",
     "output_type": "stream",
     "text": [
      "<class 'numpy.ndarray'> [1 2 3 4] [1 2 3 4]\n"
     ]
    }
   ],
   "source": [
    "# 承接上面说的，bv 可以是任何类型，但是最终的 values 均为 numpy 数组类型\n",
    "cv1 = torch.tensor([1, 2, 3, 4])\n",
    "cv2 = np.array([1, 2, 3, 4])\n",
    "cv3 = [1, 2, 3, 4]\n",
    "\n",
    "ck = ('a', 'b', 'c', 'd')\n",
    "\n",
    "c1 = pd.Series(cv1, index=ck)\n",
    "c2 = pd.Series(cv2, index=ck)\n",
    "c3 = pd.Series(cv3, index=ck)\n",
    "\n",
    "print(type(c1.values), c2.values, c3.values)\n",
    "# 所以 values 就不用创建其他的类型了，因为最终的结果都是 numpy 数组"
   ]
  },
  {
   "cell_type": "code",
   "execution_count": 17,
   "id": "1912cb47",
   "metadata": {},
   "outputs": [
    {
     "name": "stdout",
     "output_type": "stream",
     "text": [
      "      年龄   性别\n",
      "1号  23.0    男\n",
      "2号  67.0  NaN\n",
      "3号  52.0    男\n",
      "4号   NaN    女\n",
      "5号  10.0  NaN\n",
      "7号   NaN    女\n"
     ]
    }
   ],
   "source": [
    "dv1 = [23, 67, 52, 10]\n",
    "dk1 = ['1号', '2号', '3号', '5号']\n",
    "dv2 = ['男', '男', '女', '女']\n",
    "dk2 = ['1号', '3号', '4号', '7号']\n",
    "\n",
    "d1 = pd.Series(dv1, index=dk1)\n",
    "d2 = pd.Series(dv2, index=dk2)\n",
    "\n",
    "df = pd.DataFrame({'年龄':d1, '性别':d2})\n",
    "\n",
    "print(df)"
   ]
  },
  {
   "cell_type": "code",
   "execution_count": null,
   "id": "e30d3c2b",
   "metadata": {},
   "outputs": [
    {
     "name": "stdout",
     "output_type": "stream",
     "text": [
      "    年龄 性别\n",
      "1号  23  男\n",
      "2号  67  男\n",
      "3号  52  女\n",
      "4号  10  女\n"
     ]
    }
   ],
   "source": [
    "ev = np.array([[23, '男'], [67, '男'], [52, '女'], [10, '女']]) # array 自动将数字转化为字符串，因为保证元素的一致性\n",
    "ek = ['1号', '2号', '3号', '4号']\n",
    "e_columns = ['年龄', '性别']\n",
    "\n",
    "ef = pd.DataFrame(ev, index=ek, columns=e_columns)\n",
    "print(ef)"
   ]
  },
  {
   "cell_type": "code",
   "execution_count": 28,
   "id": "b47d0f60",
   "metadata": {},
   "outputs": [
    {
     "name": "stdout",
     "output_type": "stream",
     "text": [
      "['23' '67' '52' '10'] [23 67 52 10]\n"
     ]
    }
   ],
   "source": [
    "f = ef.values\n",
    "print(f[:, 0], f[:, 0].astype(int))"
   ]
  },
  {
   "cell_type": "code",
   "execution_count": null,
   "id": "ca41a095",
   "metadata": {},
   "outputs": [],
   "source": []
  }
 ],
 "metadata": {
  "kernelspec": {
   "display_name": "202510-learning (3.10.18)",
   "language": "python",
   "name": "python3"
  },
  "language_info": {
   "codemirror_mode": {
    "name": "ipython",
    "version": 3
   },
   "file_extension": ".py",
   "mimetype": "text/x-python",
   "name": "python",
   "nbconvert_exporter": "python",
   "pygments_lexer": "ipython3",
   "version": "3.10.18"
  }
 },
 "nbformat": 4,
 "nbformat_minor": 5
}

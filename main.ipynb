{
 "cells": [
  {
   "cell_type": "code",
   "execution_count": 41,
   "id": "f4132c6e",
   "metadata": {},
   "outputs": [
    {
     "name": "stdout",
     "output_type": "stream",
     "text": [
      "2.8.0+cu126\n",
      "True\n"
     ]
    },
    {
     "data": {
      "image/jpeg": "[encoded data removed]",
      "image/png": "[encoded data removed]",
      "text/plain": [
       "<PIL.PngImagePlugin.PngImageFile image mode=L size=28x28>"
      ]
     },
     "metadata": {},
     "output_type": "display_data"
    }
   ],
   "source": [
    "import torch\n",
    "from PIL import Image\n",
    "print(torch.__version__)\n",
    "print(torch.cuda.is_available())\n",
    "\n",
    "img = Image.open('mnist_train_torch/0/00000.png')\n",
    "\n",
    "display(img)"
   ]
  },
  {
   "cell_type": "code",
   "execution_count": 42,
   "id": "723f5206",
   "metadata": {},
   "outputs": [
    {
     "name": "stdout",
     "output_type": "stream",
     "text": [
      "torch.Size([1, 128, 128])\n"
     ]
    },
    {
     "data": {
      "image/jpeg": "[encoded data removed]",
      "image/png": "[encoded data removed]",
      "text/plain": [
       "<PIL.Image.Image image mode=L size=128x128>"
      ]
     },
     "metadata": {},
     "output_type": "display_data"
    },
    {
     "data": {
      "text/plain": [
       "tensor([[[-1., -1., -1.,  ..., -1., -1., -1.],\n",
       "         [-1., -1., -1.,  ..., -1., -1., -1.],\n",
       "         [-1., -1., -1.,  ..., -1., -1., -1.],\n",
       "         ...,\n",
       "         [-1., -1., -1.,  ..., -1., -1., -1.],\n",
       "         [-1., -1., -1.,  ..., -1., -1., -1.],\n",
       "         [-1., -1., -1.,  ..., -1., -1., -1.]]])"
      ]
     },
     "metadata": {},
     "output_type": "display_data"
    }
   ],
   "source": [
    "import torch\n",
    "import torchvision.transforms as T\n",
    "\n",
    "class Config:\n",
    "    backbone = 'resnet153' # [timm]\n",
    "    metric = 'arcface' # ['arcface', 'cosface]\n",
    "    embedding_size = 512\n",
    "    input_shape = [1, 128, 128]\n",
    "    train_transform = T.Compose([ \n",
    "        T.Grayscale(num_output_channels=1),\n",
    "        T.RandomHorizontalFlip(p=0.5),\n",
    "        T.Resize((144, 144)),\n",
    "        T.RandomCrop(input_shape[1:]),\n",
    "        T.ToTensor(),\n",
    "        T.Normalize(mean=[0.5], std=[0.5]) \n",
    "        # 需要注意的是，这个 mean 指的是均值减去 0.5 并不是把当前的像素点的均值变成 0.5，\n",
    "        # 也就是默认了现在的均值为 0.5，标准差为 0.5，转化为了均值为 0，标准差为 1 的一般形式\n",
    "    ])\n",
    "    test_transforme = T.Compose([\n",
    "        T.Grayscale(num_output_channels=1),\n",
    "        T.Resize(input_shape[1:]),\n",
    "        T.ToTensor(),\n",
    "        T.Normalize(mean=[0.5], std=[0.5])\n",
    "    ])\n",
    "    train_root = \"./mnist_train_torch\"\n",
    "    test_root = \"./lfw-align-128\"\n",
    "    test_list = \"./lfw_test_pair.txt\"\n",
    "    checkpoints = \"checkpoints\"\n",
    "    test_model = \"checkpoints/0.pth\"\n",
    "    train_batch_size = 64\n",
    "    test_batch_size = 64\n",
    "    epochs = 10\n",
    "    optimizer = \"sgd\" # ['sgd', 'adam']\n",
    "    lr = 1e-1\n",
    "    lr_step = 10\n",
    "    lr_decay = 0.95\n",
    "    weight_decay = 5e-4\n",
    "    loss = \"focal_loss\" # ['focal_loss', 'cross_entropy']\n",
    "    device = 'cuda' if torch.cuda.is_available() else 'cpu'\n",
    "    pin_memory = True\n",
    "    num_workers = 4\n",
    "config = Config()\n",
    "\n",
    "# 展示经过 train_transform 转化之后的图片\n",
    "show_img = ((config.train_transform(img)) * 0.5 + 0.5).clamp(0, 1)\n",
    "print(show_img.shape)\n",
    "to_image = T.ToPILImage()\n",
    "display(to_image(show_img))\n",
    "\n",
    "display(config.train_transform(img))\n",
    "    "
   ]
  },
  {
   "cell_type": "code",
   "execution_count": 43,
   "id": "9a000329",
   "metadata": {},
   "outputs": [
    {
     "name": "stdout",
     "output_type": "stream",
     "text": [
      "10\n"
     ]
    }
   ],
   "source": [
    "from torch.utils.data import DataLoader\n",
    "from torchvision.datasets import ImageFolder\n",
    "\n",
    "def load_data(conf, training = True):\n",
    "    if training:\n",
    "        data_root = conf.train_root\n",
    "        transform = conf.train_transform\n",
    "        batch_size = conf.train_batch_size\n",
    "    else:\n",
    "        data_root = conf.test_root\n",
    "        transform = conf.test_transform\n",
    "        batch_size = conf.test_batch_size\n",
    "    data = ImageFolder(data_root, transform=transform)\n",
    "    class_num = len(data.classes)\n",
    "    loader = DataLoader(data, batch_size=batch_size, shuffle=True, pin_memory=conf.pin_memory, num_workers=conf.num_workers)\n",
    "    return loader, class_num\n",
    "\n",
    "loader, class_num = load_data(config, True)\n",
    "\n",
    "print(class_num)"
   ]
  },
  {
   "cell_type": "code",
   "execution_count": 44,
   "id": "b59cf91b",
   "metadata": {},
   "outputs": [],
   "source": [
    "import torch.nn as nn\n",
    "\n",
    "class Flatten(nn.Module):\n",
    "    def forward(self, x):\n",
    "        return x.view(x.shape[0], -1)\n",
    "    \n",
    "class ConvBn(nn.Module):\n",
    "    def __init__(self, in_c, out_c, kernel=(1, 1), stride=1, padding=0, groups=1):\n",
    "        super().__init__()\n",
    "        self.net = nn.Sequential(\n",
    "            nn.Conv2d(in_c, out_c, kernel, stride, padding, groups=groups, bias=False),\n",
    "            nn.BatchNorm2d(out_c)\n",
    "        )\n",
    "    def forward(self, x):\n",
    "        return self.net(x)\n",
    "\n",
    "class ConvBnPrelu(nn.Module):\n",
    "    def __init__(self, in_c, out_c, kernel=(1, 1), stride=1, padding=0, groups=1):\n",
    "        super().__init__()\n",
    "        self.net = nn.Sequential(\n",
    "            ConvBn(in_c, out_c, kernel, stride, padding, groups),\n",
    "            nn.PReLU(out_c)\n",
    "        )\n",
    "    def forward(self, x):\n",
    "        return self.net(x)\n",
    "\n",
    "class DepthWise(nn.Module):\n",
    "    def __init__(self, in_c, out_c, kernel=(3, 3), stride=2, padding=0, groups=1):\n",
    "        super().__init__()\n",
    "        self.net = nn.Sequential(\n",
    "            ConvBnPrelu(in_c, groups, kernel=(1, 1), stride=1, padding=0),\n",
    "            ConvBnPrelu(groups, groups, kernel=kernel, stride=stride, padding=padding, groups=groups),\n",
    "            ConvBn(groups, out_c, kernel=(1, 1), stride=1, padding=0)\n",
    "        )\n",
    "    def forward(self, x):\n",
    "        return self.net(x)\n",
    "\n",
    "class DepthWiseRes(nn.Module):\n",
    "    def __init__(self, in_c, out_c, kernel=(3, 3), stride=2, padding=2, groups=1):\n",
    "        super().__init__()\n",
    "        self.net = DepthWise(in_c, out_c, kernel, stride, padding, groups)\n",
    "    def forward(self, x):\n",
    "        return self.net(x) + x\n",
    "    \n",
    "class MultiDepthWiseRes(nn.Module):\n",
    "    def __init__(self, num_block, channels, kernel=(3, 3), stride=1, padding=1, groups=1):\n",
    "        super().__init__()\n",
    "        self.net = nn.Sequential(*[ # 解包把列表展开传给 Sequential\n",
    "            DepthWiseRes(channels, channels, kernel, stride, padding, groups)\n",
    "            for _ in range(num_block)\n",
    "        ])\n",
    "    def forward(self, x):\n",
    "        return self.net(x)\n"
   ]
  },
  {
   "cell_type": "code",
   "execution_count": 45,
   "id": "794148eb",
   "metadata": {},
   "outputs": [],
   "source": [
    "class FaceMobileNet(nn.Module):\n",
    "    def __init__(self, embedding_size):\n",
    "        super().__init__()\n",
    "        self.conv1 = ConvBnPrelu(1, 64, kernel=(3, 3), stride=2, padding=1)\n",
    "        self.conv2 = ConvBn(64, 64, kernel=(3, 3), stride=1, padding=1, groups=64)\n",
    "        self.conv3 = DepthWise(64, 64, kernel=(3, 3), stride=2, padding=1, groups=128)\n",
    "        self.conv4 = MultiDepthWiseRes(num_block=4, channels=64, kernel=3, stride=1, padding=1, groups=128)\n",
    "        self.conv5 = DepthWise(64, 128, kernel=(3, 3), stride=2, padding=1, groups=256)\n",
    "        self.conv6 = MultiDepthWiseRes(num_block=6, channels=128, kernel=(3, 3), stride=1, padding=1, groups=256)\n",
    "        self.conv7 = DepthWise(128, 128, kernel=(3, 3), stride=2, padding=1, groups=512)\n",
    "        self.conv8 = MultiDepthWiseRes(num_block=2, channels=128, kernel=(3, 3), stride=1, padding=1, groups=256)\n",
    "        self.conv9 = ConvBnPrelu(128, 512, kernel=(1, 1))\n",
    "        self.conv10 = ConvBn(512, 512, groups=512, kernel=(7, 7))\n",
    "        self.flatten = Flatten()\n",
    "        self.linear = nn.Linear(2048, embedding_size, bias=False)\n",
    "        self.bn = nn.BatchNorm1d(embedding_size)\n",
    "    def forward(self, x):\n",
    "        out = self.conv1(x)\n",
    "        out = self.conv2(out)\n",
    "        out = self.conv3(out)\n",
    "        out = self.conv4(out)\n",
    "        out = self.conv5(out)\n",
    "        out = self.conv6(out)\n",
    "        out = self.conv7(out)\n",
    "        out = self.conv8(out)\n",
    "        out = self.conv9(out)\n",
    "        out = self.conv10(out)\n",
    "        out = self.flatten(out)\n",
    "        out = self.linear(out)\n",
    "        out = self.bn(out)\n",
    "        return out"
   ]
  },
  {
   "cell_type": "code",
   "execution_count": 46,
   "id": "aa11e543",
   "metadata": {},
   "outputs": [],
   "source": [
    "import torch\n",
    "import torch.nn as nn\n",
    "class FocalLoss(nn.Module):\n",
    "\n",
    "    def __init__(self, gamma=2):\n",
    "        super().__init__()\n",
    "        self.gamma = gamma\n",
    "        self.ce = torch.nn.CrossEntropyLoss()\n",
    "    def forward(self, input, target):\n",
    "        logp = self.ce(input, target)\n",
    "        p = torch.exp(-logp)\n",
    "        loss = (1 - p) ** self.gamma * logp\n",
    "        return loss.mean()"
   ]
  },
  {
   "cell_type": "code",
   "execution_count": 47,
   "id": "a3d0588b",
   "metadata": {},
   "outputs": [],
   "source": [
    "import torch.nn as nn\n",
    "import torch.nn.functional as F\n",
    "class CosFace(nn.Module):\n",
    "    def __init__(self, in_features, out_features, s=30.0, m=0.40):\n",
    "        super().__init__()\n",
    "        self.in_features = in_features\n",
    "        self.out_features = out_features\n",
    "        self.s = s\n",
    "        self.m = m\n",
    "        self.weight = nn.Parameter(torch.FloatTensor(out_features, in_features))\n",
    "        nn.init.xavier_uniform_(self.weight)\n",
    "    def forward(self, input, label):\n",
    "        cosine = F.linear(F.normalize(input), F.normalize(self.weight))\n",
    "        phi = cosine - self.m\n",
    "        output = cosine * 1.0\n",
    "        batch_size = len(output)\n",
    "        output[range(batch_size), label] = phi[range(batch_size), label]\n",
    "        return output * self.s"
   ]
  },
  {
   "cell_type": "code",
   "execution_count": 48,
   "id": "4fd1677b",
   "metadata": {},
   "outputs": [
    {
     "name": "stderr",
     "output_type": "stream",
     "text": [
      "Epoch 1/10: 100%|##########| 938/938 [02:17<00:00,  6.82it/s]\n"
     ]
    },
    {
     "name": "stdout",
     "output_type": "stream",
     "text": [
      "Epoch 1/10, Loss: 1.5279\n"
     ]
    },
    {
     "name": "stderr",
     "output_type": "stream",
     "text": [
      "Epoch 2/10: 100%|##########| 938/938 [00:49<00:00, 18.93it/s]\n"
     ]
    },
    {
     "name": "stdout",
     "output_type": "stream",
     "text": [
      "Epoch 2/10, Loss: 0.2891\n"
     ]
    },
    {
     "name": "stderr",
     "output_type": "stream",
     "text": [
      "Epoch 3/10: 100%|##########| 938/938 [01:06<00:00, 14.09it/s]\n"
     ]
    },
    {
     "name": "stdout",
     "output_type": "stream",
     "text": [
      "Epoch 3/10, Loss: 0.2029\n"
     ]
    },
    {
     "name": "stderr",
     "output_type": "stream",
     "text": [
      "Epoch 4/10: 100%|##########| 938/938 [01:55<00:00,  8.09it/s]\n"
     ]
    },
    {
     "name": "stdout",
     "output_type": "stream",
     "text": [
      "Epoch 4/10, Loss: 0.1633\n"
     ]
    },
    {
     "name": "stderr",
     "output_type": "stream",
     "text": [
      "Epoch 5/10: 100%|##########| 938/938 [00:54<00:00, 17.16it/s]\n"
     ]
    },
    {
     "name": "stdout",
     "output_type": "stream",
     "text": [
      "Epoch 5/10, Loss: 0.1454\n"
     ]
    },
    {
     "name": "stderr",
     "output_type": "stream",
     "text": [
      "Epoch 6/10: 100%|##########| 938/938 [01:12<00:00, 13.02it/s]\n"
     ]
    },
    {
     "name": "stdout",
     "output_type": "stream",
     "text": [
      "Epoch 6/10, Loss: 0.1378\n"
     ]
    },
    {
     "name": "stderr",
     "output_type": "stream",
     "text": [
      "Epoch 7/10: 100%|##########| 938/938 [01:39<00:00,  9.43it/s]\n"
     ]
    },
    {
     "name": "stdout",
     "output_type": "stream",
     "text": [
      "Epoch 7/10, Loss: 0.1235\n"
     ]
    },
    {
     "name": "stderr",
     "output_type": "stream",
     "text": [
      "Epoch 8/10: 100%|##########| 938/938 [00:52<00:00, 17.98it/s]\n"
     ]
    },
    {
     "name": "stdout",
     "output_type": "stream",
     "text": [
      "Epoch 8/10, Loss: 0.1172\n"
     ]
    },
    {
     "name": "stderr",
     "output_type": "stream",
     "text": [
      "Epoch 9/10: 100%|##########| 938/938 [00:52<00:00, 17.78it/s]\n"
     ]
    },
    {
     "name": "stdout",
     "output_type": "stream",
     "text": [
      "Epoch 9/10, Loss: 0.1031\n"
     ]
    },
    {
     "name": "stderr",
     "output_type": "stream",
     "text": [
      "Epoch 10/10: 100%|##########| 938/938 [00:51<00:00, 18.36it/s]"
     ]
    },
    {
     "name": "stdout",
     "output_type": "stream",
     "text": [
      "Epoch 10/10, Loss: 0.1068\n"
     ]
    },
    {
     "name": "stderr",
     "output_type": "stream",
     "text": [
      "\n"
     ]
    }
   ],
   "source": [
    "import torch.optim as optim\n",
    "from tqdm import tqdm\n",
    "\n",
    "if __name__ == '__main__':\n",
    "    dataloader, class_num = load_data(config, training=True)\n",
    "    device = config.device\n",
    "    embedding_size = config.embedding_size\n",
    "    net = FaceMobileNet(embedding_size).to(device)\n",
    "    metric = CosFace(embedding_size, class_num).to(device)\n",
    "    criterion = FocalLoss(gamma=2)\n",
    "    optimizer = optim.SGD(\n",
    "        list(net.parameters()) + list(metric.parameters()),\n",
    "        lr=config.lr,\n",
    "        weight_decay=config.weight_decay\n",
    "    )\n",
    "    scheduler = optim.lr_scheduler.StepLR(optimizer, step_size=config.lr_step, gamma=0.1)\n",
    "    net.train()\n",
    "    for e in range(config.epochs):\n",
    "        total_loss = 0\n",
    "        for data, labels in tqdm(dataloader, desc=f\"Epoch {e+1}/{config.epochs}\", ascii=True):\n",
    "            data, labels = data.to(device), labels.to(device)\n",
    "            optimizer.zero_grad()\n",
    "            embeddings = net(data)\n",
    "            thetas = metric(embeddings, labels)\n",
    "            loss = criterion(thetas, labels)\n",
    "            loss.backward()\n",
    "            optimizer.step()\n",
    "            total_loss += loss.item()\n",
    "        avg_loss = total_loss / len(dataloader)\n",
    "        print(f\"Epoch {e+1}/{config.epochs}, Loss: {avg_loss:.4f}\")\n",
    "        torch.save(net.state_dict(), f\"checkpoint_epoch_{e+1}.pth\")\n",
    "        scheduler.step()"
   ]
  }
 ],
 "metadata": {
  "kernelspec": {
   "display_name": "202510-learning (3.10.18)",
   "language": "python",
   "name": "python3"
  },
  "language_info": {
   "codemirror_mode": {
    "name": "ipython",
    "version": 3
   },
   "file_extension": ".py",
   "mimetype": "text/x-python",
   "name": "python",
   "nbconvert_exporter": "python",
   "pygments_lexer": "ipython3",
   "version": "3.10.18"
  }
 },
 "nbformat": 4,
 "nbformat_minor": 5
}

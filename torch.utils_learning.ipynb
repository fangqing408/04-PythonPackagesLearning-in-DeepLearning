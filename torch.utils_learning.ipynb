{
 "cells": [
  {
   "cell_type": "markdown",
   "id": "3c5b6c9a",
   "metadata": {},
   "source": [
    "前面其实很早就使用了这个库函数的拓展封装也就是 torchvision.datasets，因为，其中最重要的一个库就是 torch.utils.data 也就是数据加载和批处理模块：\n",
    "\n",
    "主要包含 Dataset，数据集定义格式的基类，DataLoader，实现了数据的批量加载、打乱、多线程，Subset，实现从现有的数据集里面提取子集，通常用作验证的划分\n",
    "\n",
    "ConcatDataset 实现了多个数据集的拼接，还有 Tensor，常用于小型实验，用 Tensor 直接打包数据集，random_split 随即划分数据集\n",
    "\n",
    "之前也讲过想要继承 Dataset 类的话必须实现两个方法，\\_\\_getitem\\_\\_ 和 \\_\\_len\\_\\_ "
   ]
  },
  {
   "cell_type": "code",
   "execution_count": null,
   "id": "8d1d7292",
   "metadata": {},
   "outputs": [],
   "source": []
  },
  {
   "cell_type": "markdown",
   "id": "36aa5704",
   "metadata": {},
   "source": [
    "除去上面说的最重要的 torch.utils.dataset 另外比较重要的就是 torch.utils.tensorboard，这个接口能实现训练的可视化，但是使用 jupyter 的话本身就能实现可视化"
   ]
  },
  {
   "cell_type": "code",
   "execution_count": null,
   "id": "e12dec56",
   "metadata": {},
   "outputs": [],
   "source": [
    "from torch.utils.tensorboard import SummaryWriter\n",
    "\n",
    "writer = SummaryWriter(\"runs/exp1\")\n",
    "writer.add_scalar(\"loss/train\", loss, epoch)\n",
    "writer.add_image(\"input\", img_tensor)\n",
    "writer.close()\n"
   ]
  },
  {
   "cell_type": "markdown",
   "id": "a2154763",
   "metadata": {},
   "source": [
    "PyTorch 自带的 TensorBoard 接口可以直接在浏览器中查看：tensorboard --logdir=runs\n"
   ]
  },
  {
   "cell_type": "markdown",
   "id": "b9990868",
   "metadata": {},
   "source": [
    "还有就是 torch.utils.cpp_extension，允许在 python 里面编译并调用自定义的 C++ 或者 CUDA 算子，写高性能算子或者自定义后端的时候能用到"
   ]
  },
  {
   "cell_type": "code",
   "execution_count": null,
   "id": "cd5699bf",
   "metadata": {},
   "outputs": [],
   "source": [
    "from torch.utils.cpp_extension import load\n",
    "\n",
    "module = load(name=\"my_extension\", sources=[\"my_op.cpp\", \"my_op_kernel.cu\"])\n"
   ]
  },
  {
   "cell_type": "markdown",
   "id": "bf29486f",
   "metadata": {},
   "source": [
    "除此之外还包含 .benchmark 基准测试，测算性能、时间、显存，.dlpack 与 Numpy/TensorFlow/CuPy 共享张量，torch.utils.checkpoint 节省显存的梯度检查点机制（反向时重算前向）"
   ]
  },
  {
   "cell_type": "code",
   "execution_count": null,
   "id": "b19f25f9",
   "metadata": {},
   "outputs": [],
   "source": [
    "from torch.utils.checkpoint import checkpoint\n",
    "\n",
    "def expensive_layer(x):\n",
    "    return layer(x)\n",
    "\n",
    "out = checkpoint(expensive_layer, input_tensor)\n"
   ]
  }
 ],
 "metadata": {
  "language_info": {
   "name": "python"
  }
 },
 "nbformat": 4,
 "nbformat_minor": 5
}

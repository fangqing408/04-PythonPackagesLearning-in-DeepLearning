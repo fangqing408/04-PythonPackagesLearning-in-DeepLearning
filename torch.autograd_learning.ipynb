{
 "cells": [
  {
   "cell_type": "markdown",
   "id": "ba85a692",
   "metadata": {},
   "source": [
    "这个库函数实现的是梯度的管理，非常的有迷惑性，因为之前讲过一遍 torch 下的梯度管理，可以直接调用 torch 下的相关方法和函数\n",
    "\n",
    "但是这些函数的真正位置是 torch.autograd 模块下，但 PyTorch 设计时为了方便用户调用，把它们在顶层暴露了，主要包含下面这些函数：\n",
    "\n",
    "torch.autograd.no_grad()：禁止自动求导，推理阶段常用\n",
    "\n",
    "torch.autograd.enable_grad()：强制启用梯度记录\n",
    "\n",
    "torch.autograd.backward()：手动执行反向传播\n",
    "\n",
    "torch.autograd.grad()：查看梯度\n",
    "\n",
    "torch.autograd.detect_anomaly()：调试用：发现 NaN / Inf 梯度\n",
    "\n",
    "torch.autograd.profiler.profile()：记录反向传播性能信息"
   ]
  },
  {
   "cell_type": "code",
   "execution_count": 1,
   "id": "cc0d1b65",
   "metadata": {},
   "outputs": [
    {
     "name": "stdout",
     "output_type": "stream",
     "text": [
      "<class 'torch.autograd.grad_mode.no_grad'>\n",
      "<class 'torch.autograd.grad_mode.no_grad'>\n",
      "True\n"
     ]
    }
   ],
   "source": [
    "import torch\n",
    "print(torch.no_grad)\n",
    "print(torch.autograd.no_grad)\n",
    "print(torch.no_grad is torch.autograd.no_grad)\n"
   ]
  }
 ],
 "metadata": {
  "kernelspec": {
   "display_name": "202510-learning (3.10.18)",
   "language": "python",
   "name": "python3"
  },
  "language_info": {
   "codemirror_mode": {
    "name": "ipython",
    "version": 3
   },
   "file_extension": ".py",
   "mimetype": "text/x-python",
   "name": "python",
   "nbconvert_exporter": "python",
   "pygments_lexer": "ipython3",
   "version": "3.10.18"
  }
 },
 "nbformat": 4,
 "nbformat_minor": 5
}

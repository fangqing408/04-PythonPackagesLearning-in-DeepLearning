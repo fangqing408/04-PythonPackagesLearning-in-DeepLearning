{
 "cells": [
  {
   "cell_type": "markdown",
   "id": "ed6bdcf9",
   "metadata": {},
   "source": [
    "##### 1.torch.autograd 总结"
   ]
  },
  {
   "cell_type": "markdown",
   "id": "ba85a692",
   "metadata": {},
   "source": [
    "> 这个库函数实现的是梯度的管理，因为之前讲过一遍 torch 下的梯度管理，可以直接调用 torch 下的相关方法和函数，这个库的作用为记录计算图、计算梯度、管理梯度的开关状态\n",
    "\n",
    "> 但是这些函数的真正位置是 torch.autograd 模块下，但 torch 设计时为了方便用户调用，把它们在顶层暴露了，主要包含下面这些函数：\n",
    "\n",
    "- 1）torch.autograd.no_grad()：禁止自动求导，推理阶段常用，现在用 model.no_grad()\n",
    "\n",
    "- 2）torch.autograd.enable_grad()：强制启用梯度记录，基本不用\n",
    "\n",
    "- 3）torch.autograd.backward()：手动执行反向传播，现在用 loss.backward()\n",
    "\n",
    "- 4）torch.autograd.grad()：查看梯度，现在用 paramer.grad()\n",
    "\n",
    "- 5）torch.autograd.detect_anomaly()：调试用：发现 NaN / Inf 梯度\n",
    "\n",
    "- 6）torch.autograd.profiler.profile()：记录反向传播性能信息，分析前后向传播的时间消耗和显存使用"
   ]
  },
  {
   "cell_type": "code",
   "execution_count": 1,
   "id": "cc0d1b65",
   "metadata": {},
   "outputs": [
    {
     "name": "stdout",
     "output_type": "stream",
     "text": [
      "<class 'torch.autograd.grad_mode.no_grad'>\n",
      "<class 'torch.autograd.grad_mode.no_grad'>\n",
      "True\n"
     ]
    }
   ],
   "source": [
    "import torch\n",
    "print(torch.no_grad)\n",
    "print(torch.autograd.no_grad)\n",
    "print(torch.no_grad is torch.autograd.no_grad)\n"
   ]
  }
 ],
 "metadata": {
  "kernelspec": {
   "display_name": "202510-learning (3.10.18)",
   "language": "python",
   "name": "python3"
  },
  "language_info": {
   "codemirror_mode": {
    "name": "ipython",
    "version": 3
   },
   "file_extension": ".py",
   "mimetype": "text/x-python",
   "name": "python",
   "nbconvert_exporter": "python",
   "pygments_lexer": "ipython3",
   "version": "3.10.18"
  }
 },
 "nbformat": 4,
 "nbformat_minor": 5
}

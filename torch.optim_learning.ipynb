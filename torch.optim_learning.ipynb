{
 "cells": [
  {
   "cell_type": "markdown",
   "id": "ea29e2c7",
   "metadata": {},
   "source": [
    "requires_grad=True PyTorch 会记录它的计算图并在 .grad 中保存梯度\n",
    "\n",
    "loss.backward() 所有可训练参数的 .grad 被填充\n",
    "\n",
    "optimizer.step() 对应的是 param.data -= lr * param.grad 手动更新权重这句话\n",
    "\n",
    "requires_grad=False 冻结这层参数（不求导，不更新）"
   ]
  },
  {
   "cell_type": "code",
   "execution_count": 1,
   "id": "580d0437",
   "metadata": {},
   "outputs": [
    {
     "name": "stdout",
     "output_type": "stream",
     "text": [
      "fc1.weight True tensor([[0.0000, 0.0000],\n",
      "        [0.0031, 0.0063]])\n",
      "fc1.bias True tensor([0.0000, 0.0031])\n",
      "fc2.weight False None\n",
      "fc2.bias False None\n",
      "fc3.weight True tensor([[-3.3135,  0.0000]])\n",
      "fc3.bias True tensor([-2.5688])\n"
     ]
    }
   ],
   "source": [
    "import torch\n",
    "import torch.nn as nn\n",
    "import torch.nn.functional as F\n",
    "\n",
    "# 定义一个三层模型\n",
    "class TinyNet(nn.Module):\n",
    "    def __init__(self):\n",
    "        super().__init__()\n",
    "        self.fc1 = nn.Linear(2, 2)\n",
    "        self.fc2 = nn.Linear(2, 2)\n",
    "        self.fc3 = nn.Linear(2, 1)\n",
    "    def forward(self, x):\n",
    "        x = F.relu(self.fc1(x))   # layer1\n",
    "        x = F.relu(self.fc2(x))   # layer2\n",
    "        x = self.fc3(x)           # layer3\n",
    "        return x\n",
    "\n",
    "net = TinyNet()\n",
    "\n",
    "# 冻结中间层 fc2\n",
    "for p in net.fc2.parameters():\n",
    "    p.requires_grad = False\n",
    "\n",
    "# 输入与目标\n",
    "x = torch.tensor([[1.0, 2.0]])\n",
    "y_true = torch.tensor([[1.0]])\n",
    "\n",
    "# 前向\n",
    "y_pred = net(x)\n",
    "loss = F.mse_loss(y_pred, y_true)\n",
    "loss.backward()\n",
    "\n",
    "# 查看梯度\n",
    "for name, p in net.named_parameters():\n",
    "    print(name, p.requires_grad, p.grad)\n"
   ]
  }
 ],
 "metadata": {
  "kernelspec": {
   "display_name": "202510-learning (3.10.18)",
   "language": "python",
   "name": "python3"
  },
  "language_info": {
   "codemirror_mode": {
    "name": "ipython",
    "version": 3
   },
   "file_extension": ".py",
   "mimetype": "text/x-python",
   "name": "python",
   "nbconvert_exporter": "python",
   "pygments_lexer": "ipython3",
   "version": "3.10.18"
  }
 },
 "nbformat": 4,
 "nbformat_minor": 5
}

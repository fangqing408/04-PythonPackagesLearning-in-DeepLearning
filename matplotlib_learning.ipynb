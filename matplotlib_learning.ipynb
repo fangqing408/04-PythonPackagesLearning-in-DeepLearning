{
 "cells": [
  {
   "cell_type": "code",
   "execution_count": null,
   "id": "86afe7a9",
   "metadata": {},
   "outputs": [
    {
     "data": {
      "text/plain": [
       "<Figure size 400x400 with 0 Axes>"
      ]
     },
     "execution_count": 22,
     "metadata": {},
     "output_type": "execute_result"
    },
    {
     "data": {
      "text/plain": [
       "<Figure size 400x400 with 0 Axes>"
      ]
     },
     "metadata": {},
     "output_type": "display_data"
    }
   ],
   "source": [
    "import matplotlib.pyplot as plt\n",
    "import torch\n",
    "\n",
    "plt.figure(figsize=(4, 4)) # 新建 6 X 6 英寸的画布"
   ]
  },
  {
   "cell_type": "code",
   "execution_count": 26,
   "id": "9f5664b5",
   "metadata": {},
   "outputs": [
    {
     "name": "stdout",
     "output_type": "stream",
     "text": [
      "torch.Size([200, 200]) torch.Size([200, 200]) torch.Size([40000])\n"
     ]
    },
    {
     "data": {
      "image/png": "[encoded data removed]",
      "text/plain": [
       "<Figure size 640x480 with 1 Axes>"
      ]
     },
     "metadata": {},
     "output_type": "display_data"
    }
   ],
   "source": [
    "xx, yy = torch.meshgrid( # 生成一个二维的网格，前两个参数代表横纵\n",
    "    torch.linspace(-5, 5, 200),\n",
    "    torch.linspace(-5, 5, 200),\n",
    "    indexing='xy'\n",
    ")\n",
    "\n",
    "print(xx.shape, yy.shape, xx.flatten().shape)\n",
    "\n",
    "grid = torch.stack([xx.flatten(), yy.flatten()], dim=1) # 把二维坐标展开为 40000 X 2 的矩阵，每一行是一个点的坐标\n",
    "\n",
    "# 有模型的话，可以将这些点前向传播输入模型看一下所属的类别\n",
    "\n",
    "# with torch.no_grad():\n",
    "#     logits = model(grid)        # shape [40000, 3]\n",
    "#     preds = logits.argmax(dim=1)  # 取出每个点预测的类别索引\n",
    "#     preds = preds.reshape(xx.shape)\n",
    "\n",
    "preds = torch.tensor([i // 13333 for i in range(40000)])\n",
    "preds = preds.reshape(xx.shape) # 存在网络的话，输出类别\n",
    "\n",
    "colors = ['blue', 'red', 'green']\n",
    "plt.scatter( # 绘制散点，前两个参数代表所有点的 x 的全部坐标和 y 的坐标，接下来代表颜色标签点的边缘和点的大小\n",
    "    [1, 2, 3],\n",
    "    [1, 2, 3],\n",
    "    c='blue',\n",
    "    label='1',\n",
    "    marker='^',\n",
    "    edgecolors='k',\n",
    "    s=40\n",
    ")\n",
    "plt.contourf(xx, yy, preds, levels=[-0.5, 0.5, 1.5, 2.5], alpha=0.3, colors=colors) # levels 代表颜色的个数，colors 代表使用定义的颜色\n",
    "\n",
    "plt.legend() # 显示图例，也就是类别\n",
    "plt.title('TestNet') # 设置标题\n",
    "plt.xlabel('x') # 横坐标名字\n",
    "plt.ylabel('y') # 纵坐标名字\n",
    "plt.show()"
   ]
  }
 ],
 "metadata": {
  "kernelspec": {
   "display_name": "202510-learning (3.10.18)",
   "language": "python",
   "name": "python3"
  },
  "language_info": {
   "codemirror_mode": {
    "name": "ipython",
    "version": 3
   },
   "file_extension": ".py",
   "mimetype": "text/x-python",
   "name": "python",
   "nbconvert_exporter": "python",
   "pygments_lexer": "ipython3",
   "version": "3.10.18"
  }
 },
 "nbformat": 4,
 "nbformat_minor": 5
}
